{
  "nbformat": 4,
  "nbformat_minor": 0,
  "metadata": {
    "colab": {
      "name": "H1.ipynb",
      "provenance": [],
      "collapsed_sections": []
    },
    "kernelspec": {
      "name": "python3",
      "display_name": "Python 3"
    },
    "language_info": {
      "name": "python"
    }
  },
  "cells": [
    {
      "cell_type": "markdown",
      "metadata": {
        "id": "crkwZf5SCyER"
      },
      "source": [
        "The main idea of this assignment is explore \n",
        "1.   Basic Operation \n",
        "           - print statement \n",
        "           - how to get help \n",
        "           - declare variables \n",
        "           - assign values\n",
        "2. Working with Integers \n",
        "           - operators \n",
        "           - functions \n",
        "3. Working with Strings \n",
        "           - operators \n",
        "           - functions \n",
        "4. Handling Errors \n",
        "           - Syntax \n",
        "           - Run Time \n",
        "           - Logical\n",
        "\n",
        "\n",
        "\n"
      ]
    },
    {
      "cell_type": "code",
      "metadata": {
        "id": "GPfG8zb3LBT5",
        "colab": {
          "base_uri": "https://localhost:8080/"
        },
        "outputId": "e122ba0a-e642-4963-d640-a97b3df30208"
      },
      "source": [
        "# print your name \n",
        "\n",
        "# print your hobbies \n",
        "\n",
        "# print your registration number\n",
        "\n",
        "print('my name is>>SATHWIK S SHETTY')\n",
        "print('my hobbies are>> Playing cricket, Watching anime')\n",
        "print('reg no>> 211047006')"
      ],
      "execution_count": null,
      "outputs": [
        {
          "output_type": "stream",
          "name": "stdout",
          "text": [
            "my name is>>SATHWIK S SHETTY\n",
            "my hobbies are>> Playing cricket, Watching anime\n",
            "reg no>> 211047006\n"
          ]
        }
      ]
    },
    {
      "cell_type": "code",
      "metadata": {
        "id": "NYfLS3UvO14i",
        "colab": {
          "base_uri": "https://localhost:8080/"
        },
        "outputId": "8bef543e-b01b-44be-dd07-2fe2d009aa42"
      },
      "source": [
        "# how to get more information about print functions \n",
        "\n",
        "\n",
        "# how to get more infromation about math module \n",
        "\n",
        "\n",
        "# how to get more information about symbols \n",
        "help()\n"
      ],
      "execution_count": null,
      "outputs": [
        {
          "output_type": "stream",
          "name": "stdout",
          "text": [
            "\n",
            "Welcome to Python 3.7's help utility!\n",
            "\n",
            "If this is your first time using Python, you should definitely check out\n",
            "the tutorial on the Internet at https://docs.python.org/3.7/tutorial/.\n",
            "\n",
            "Enter the name of any module, keyword, or topic to get help on writing\n",
            "Python programs and using Python modules.  To quit this help utility and\n",
            "return to the interpreter, just type \"quit\".\n",
            "\n",
            "To get a list of available modules, keywords, symbols, or topics, type\n",
            "\"modules\", \"keywords\", \"symbols\", or \"topics\".  Each module also comes\n",
            "with a one-line summary of what it does; to list the modules whose name\n",
            "or summary contain a given string such as \"spam\", type \"modules spam\".\n",
            "\n",
            "\n",
            "You are now leaving help and returning to the Python interpreter.\n",
            "If you want to ask for help on a particular object directly from the\n",
            "interpreter, you can type \"help(object)\".  Executing \"help('string')\"\n",
            "has the same effect as typing a particular string at the help> prompt.\n"
          ]
        }
      ]
    },
    {
      "cell_type": "code",
      "metadata": {
        "id": "YmCpHvKVO5ud"
      },
      "source": [
        "# store your role model name in the variable \"role\"\n",
        "\n",
        "\n",
        "# describe your role model in the variable \"role_desc\"\n",
        "\n",
        "\n",
        "# store the numeric value in the variable \"my_values\"\n",
        "role = 'bruce wayne'\n",
        "role_desc='batman'\n",
        "my_values= 124578"
      ],
      "execution_count": null,
      "outputs": []
    },
    {
      "cell_type": "code",
      "metadata": {
        "id": "Jkev_gH2T4w7",
        "colab": {
          "base_uri": "https://localhost:8080/"
        },
        "outputId": "d01083e0-7d5e-46f6-aa46-7253dcb4d064"
      },
      "source": [
        "# you can perform arithemetic opeartions using python arithmetic opeartors \n",
        "# To perform arithmetic opeations \n",
        "# If your run a 1000 Kilo Meter race in 143 minutes 30 seconds, what is your average time per mile? What is your average speed in miles per hour? \n",
        "# Hint : 1.61 kilometers in a mile\n",
        "x=1000\n",
        "y=x/1.61\n",
        "print(y)\n",
        "a=143.5/60\n",
        "print('time taken in hour',a)\n",
        "z=y/a\n",
        "print('speed in miles per hour',z)"
      ],
      "execution_count": null,
      "outputs": [
        {
          "output_type": "stream",
          "name": "stdout",
          "text": [
            "621.1180124223603\n",
            "time taken in hour 2.3916666666666666\n",
            "speed in miles per hour 259.7009111173632\n"
          ]
        }
      ]
    },
    {
      "cell_type": "code",
      "metadata": {
        "id": "M0jRtr_pVDAO",
        "colab": {
          "base_uri": "https://localhost:8080/"
        },
        "outputId": "7e9a8372-d049-46f5-de25-eb726c3f934c"
      },
      "source": [
        "# Suppose the cover price of a python book  is  577.95, but bookstores get a 40% discount.\n",
        "# Shipping costs  150 for the first copy and 50 Rupees for each additional copy. What is the total wholesale cost for 60 copies?\n",
        "x=577.95\n",
        "y=x-x*40/100\n",
        "print('cost per copy after discount',y)\n",
        "a=y+150\n",
        "b=y*60+59*50+150\n",
        "print('total cost',b)"
      ],
      "execution_count": null,
      "outputs": [
        {
          "output_type": "stream",
          "name": "stdout",
          "text": [
            "cost per copy after discount 346.77000000000004\n",
            "total cost 23906.2\n"
          ]
        }
      ]
    },
    {
      "cell_type": "code",
      "metadata": {
        "id": "_lQDsw9z6EKD",
        "colab": {
          "base_uri": "https://localhost:8080/"
        },
        "outputId": "305101c9-523e-40a3-b093-47b3d2111671"
      },
      "source": [
        "# write a python code to convert Centrigrade to Fahrenheit , get the value Centrigrade from the user. \n",
        "# Sample Input:\n",
        "# Enter Centrigrade:  23.5 \n",
        "\n",
        "c=float(input('vaLUE OF C'))\n",
        "f=(c*9/5)+32\n",
        "print('temperature in F',f)"
      ],
      "execution_count": null,
      "outputs": [
        {
          "output_type": "stream",
          "name": "stdout",
          "text": [
            "vaLUE OF C25\n",
            "temperature in F 77.0\n"
          ]
        }
      ]
    },
    {
      "cell_type": "code",
      "metadata": {
        "id": "U2jXh8GNDk3Q",
        "colab": {
          "base_uri": "https://localhost:8080/"
        },
        "outputId": "c0126ee1-62b4-4de4-b80c-117a46e68b33"
      },
      "source": [
        "# write a python code to convert Fahrenheit to Centrigrade, get the value Fahreheit from the user. \n",
        "# Sample Input:\n",
        "# Enter Fahreheit:  23.5 \n",
        "f=float(input('value of f'))\n",
        "c=(f-32)*5/9\n",
        "print('temperature in c',c)\n"
      ],
      "execution_count": null,
      "outputs": [
        {
          "output_type": "stream",
          "name": "stdout",
          "text": [
            "value of f55\n",
            "temperature in c 12.777777777777779\n"
          ]
        }
      ]
    },
    {
      "cell_type": "code",
      "metadata": {
        "id": "UH0S-lJJFDQ0",
        "colab": {
          "base_uri": "https://localhost:8080/"
        },
        "outputId": "abac88e7-7eba-4bd7-9050-47c2ed67aa20"
      },
      "source": [
        "# Write a python program of your choice which uses arithmetic operations (use both operators and functions ) with meaningful application \n",
        "a=10\n",
        "b=5\n",
        "print('addition',a+b)\n",
        "print('subtraction',a-b)\n",
        "print('multiplication',a*b)\n",
        "print('division',a/b)\n",
        "print('modulus',a%b)\n",
        "print('square',a**b)"
      ],
      "execution_count": null,
      "outputs": [
        {
          "output_type": "stream",
          "name": "stdout",
          "text": [
            "addition 15\n",
            "subtraction 5\n",
            "multiplication 50\n",
            "division 2.0\n",
            "modulus 0\n",
            "square 100000\n"
          ]
        }
      ]
    },
    {
      "cell_type": "code",
      "metadata": {
        "id": "h18SMgbAG1AL",
        "colab": {
          "base_uri": "https://localhost:8080/"
        },
        "outputId": "4afef976-7c13-4e66-f351-5cbbc83864aa"
      },
      "source": [
        "# create a variable called my_neg to store  negative value \n",
        "my_neg = -15\n",
        "print(my_neg)\n",
        "\n",
        "\n",
        "# create a variable called my_float to store float value \n",
        "my_float =  2.4425\n",
        "print(my_float)\n",
        "\n",
        "\n",
        "# create a variable called my_complex to store complex value \n",
        "my_complex= complex(2,3)\n",
        "print(my_complex)\n",
        "\n",
        "# Note: there a various method to create complex numbers \n",
        "\n",
        "# perform mathematical operations on complex numbers \n",
        "def addComplex( b1, b2):\n",
        "    return b1 + b2\n",
        " \n",
        "b1 = complex(2, 3)\n",
        "b2 = complex(1, 2)\n",
        "print( \"Addition is : \", addComplex(b1, b2))\n"
      ],
      "execution_count": null,
      "outputs": [
        {
          "output_type": "stream",
          "name": "stdout",
          "text": [
            "-15\n",
            "2.4425\n",
            "(2+3j)\n",
            "Addition is :  (3+5j)\n"
          ]
        }
      ]
    },
    {
      "cell_type": "code",
      "metadata": {
        "id": "D9zXw7dfeuQG",
        "colab": {
          "base_uri": "https://localhost:8080/",
          "height": 134
        },
        "outputId": "f4444276-a8c9-4f73-d4c7-f7964f115a3f"
      },
      "source": [
        "# create a variable called break and assign it a value of 15. what is the response and find the reason behind the behaviour.  \n",
        "break =15"
      ],
      "execution_count": null,
      "outputs": [
        {
          "output_type": "error",
          "ename": "SyntaxError",
          "evalue": "ignored",
          "traceback": [
            "\u001b[0;36m  File \u001b[0;32m\"<ipython-input-22-7305392689d1>\"\u001b[0;36m, line \u001b[0;32m2\u001b[0m\n\u001b[0;31m    break =15\u001b[0m\n\u001b[0m          ^\u001b[0m\n\u001b[0;31mSyntaxError\u001b[0m\u001b[0;31m:\u001b[0m invalid syntax\n"
          ]
        }
      ]
    },
    {
      "cell_type": "code",
      "metadata": {
        "colab": {
          "base_uri": "https://localhost:8080/"
        },
        "id": "fDPZ89vTmA3i",
        "outputId": "0e11dfdd-6a00-4afc-992a-aec9845bc979"
      },
      "source": [
        "result =\"pathfinder\"\n",
        "print (result[2])"
      ],
      "execution_count": null,
      "outputs": [
        {
          "output_type": "stream",
          "name": "stdout",
          "text": [
            "t\n"
          ]
        }
      ]
    },
    {
      "cell_type": "code",
      "metadata": {
        "id": "5sv7vl8_R3P5",
        "colab": {
          "base_uri": "https://localhost:8080/"
        },
        "outputId": "b4ad32d1-1bea-4a26-fad6-387b7dc75f7e"
      },
      "source": [
        "# String operations \n",
        "#Write a program to get the name of the guest , then greet the user using their name as part of greeting \n",
        "# Sample Input \n",
        "# Enter the Guest Name: Writer Sudha Murthy \n",
        "# Sample Output \n",
        "# I am extremly hounor to welcome Sudha Murthy to ....... \n",
        "a = str(input('enter name'))\n",
        "print('I am extremly hounor to welcome Sudha Murthy')\n",
        "\n"
      ],
      "execution_count": null,
      "outputs": [
        {
          "output_type": "stream",
          "name": "stdout",
          "text": [
            "enter namesuda murthy\n",
            "I am extremly hounor to welcome Sudha Murthy\n"
          ]
        }
      ]
    },
    {
      "cell_type": "code",
      "metadata": {
        "id": "EkN2V3BzTyYh",
        "colab": {
          "base_uri": "https://localhost:8080/"
        },
        "outputId": "8ad2a6ac-3f42-4776-d8ac-24a47d2fd296"
      },
      "source": [
        "quotes  = \"Don't Judge each day by the harvest you reap but by the seeds that you plant.\"\n",
        "\n",
        "# count the total number of characters in the variable quotes \n",
        "count = 0;  \n",
        "\n",
        "for i in range(0, len(quotes)):  \n",
        "    if(quotes[i] != ' '):  \n",
        "        count = count + 1;  \n",
        "\n",
        "print(\"Total number of characters in a string: \" + str(count));  \n",
        "\n",
        "# convert the smaller case to upper case, upper case to smaller case \n",
        "nstr=\"\"\n",
        "for i in range (len(quotes)):\n",
        "    if quotes[i].isupper():\n",
        "        nstr+=quotes[i].lower()\n",
        "    elif quotes[i].islower():\n",
        "        nstr+=quotes[i].upper()\n",
        "    else:\n",
        "        nstr+=quotes[i]\n",
        "print(nstr)\n",
        "\n",
        "# check whether the numeric value is present or not \n",
        "if type(quotes) == int or type(quotes) == float:\n",
        "    print('number')\n",
        "else:\n",
        "    print('The variable is not a number')\n",
        "\n",
        "# Check whether the word \"harvest\" present in the string or not \n",
        "\n",
        "\"harvest\" in quotes\n",
        "\n",
        "# replace the (.) with (!) \n",
        "print(quotes.replace('.','!'))"
      ],
      "execution_count": null,
      "outputs": [
        {
          "output_type": "stream",
          "name": "stdout",
          "text": [
            "Total number of characters in a string: 62\n",
            "dON'T jUDGE EACH DAY BY THE HARVEST YOU REAP BUT BY THE SEEDS THAT YOU PLANT.\n",
            "The variable is not a number\n",
            "Don't Judge each day by the harvest you reap but by the seeds that you plant!\n"
          ]
        }
      ]
    },
    {
      "cell_type": "code",
      "metadata": {
        "id": "9xasXs-dWMTc",
        "colab": {
          "base_uri": "https://localhost:8080/",
          "height": 35
        },
        "outputId": "9fdbe1d8-4ba1-4a25-e69b-8183cc6d2d88"
      },
      "source": [
        "# Explore any 5 string build-in functions which is not discussed in the class\n",
        "# provide with suitable examples \n",
        "mystring = \"i have a laptop\"\n",
        "mystring[:2]\n",
        "mystring[-2:]\n",
        "mystring[1:3]\n",
        "mystring[::-1]\n",
        "mystring.split()[-1]"
      ],
      "execution_count": null,
      "outputs": [
        {
          "output_type": "execute_result",
          "data": {
            "application/vnd.google.colaboratory.intrinsic+json": {
              "type": "string"
            },
            "text/plain": [
              "'potpal a evah i'"
            ]
          },
          "metadata": {},
          "execution_count": 52
        }
      ]
    },
    {
      "cell_type": "code",
      "metadata": {
        "id": "vs0lRRDRtRFQ",
        "colab": {
          "base_uri": "https://localhost:8080/"
        },
        "outputId": "ec55d3aa-02e2-4aac-abea-ee2174b58b03"
      },
      "source": [
        "num_int =55\n",
        "num_str =34\n",
        "int(num_str)\n",
        "total = num_int + num_str\n",
        "print (total)\n",
        "print (type(num_int))\n",
        "print (type(num_str))\n"
      ],
      "execution_count": null,
      "outputs": [
        {
          "output_type": "stream",
          "name": "stdout",
          "text": [
            "89\n",
            "<class 'int'>\n",
            "<class 'int'>\n"
          ]
        }
      ]
    },
    {
      "cell_type": "code",
      "metadata": {
        "id": "Rbq2VWPy4Hp-",
        "colab": {
          "base_uri": "https://localhost:8080/"
        },
        "outputId": "b4aab9f1-4f3c-4656-87e4-32b73c9108d3"
      },
      "source": [
        "#Find potential sources of runtime errors in this code snippet:\n",
        "import math\n",
        "dividend = float(input(\"Please enter the dividend: \"))\n",
        "divisor = float(input(\"Please enter the divisor: \"))\n",
        "quotient = dividend / divisor5\n",
        "quotient_rounded = round(quotient)\n",
        "print(quotient)\n"
      ],
      "execution_count": null,
      "outputs": [
        {
          "output_type": "stream",
          "name": "stdout",
          "text": [
            "Please enter the dividend: 10\n",
            "Please enter the divisor: 5\n",
            "2.0\n"
          ]
        }
      ]
    },
    {
      "cell_type": "code",
      "metadata": {
        "id": "yNDpOmfoNZhD",
        "colab": {
          "base_uri": "https://localhost:8080/"
        },
        "outputId": "0b7754fa-3a12-4b27-ceff-c0c04ffce49c"
      },
      "source": [
        "# print the quotes : Don't judge each day by the harvest you reap but by the seeds that you plant.\n",
        "# Example for syntax Error \n",
        "\n",
        "print (\"Don't judge each day by the harvest you reap but by the seeds that you plant\")"
      ],
      "execution_count": null,
      "outputs": [
        {
          "output_type": "stream",
          "name": "stdout",
          "text": [
            "Don't judge each day by the harvest you reap but by the seeds that you plant\n"
          ]
        }
      ]
    },
    {
      "cell_type": "code",
      "metadata": {
        "id": "3PLbQJiLOhup",
        "colab": {
          "base_uri": "https://localhost:8080/"
        },
        "outputId": "4fc3cf6b-2544-437d-e0e1-bdef7fc5c897"
      },
      "source": [
        "# print the Quotes :Don't judge each day by the harvest you reap but by the seeds that you plant.\n",
        "print(\"Don't judge each day by the harvest you reap but by the seeds that you plant\")"
      ],
      "execution_count": null,
      "outputs": [
        {
          "output_type": "stream",
          "name": "stdout",
          "text": [
            "Don't judge each day by the harvest you reap but by the seeds that you plant\n"
          ]
        }
      ]
    },
    {
      "cell_type": "code",
      "metadata": {
        "id": "qG-UqL6yPvLY",
        "colab": {
          "base_uri": "https://localhost:8080/"
        },
        "outputId": "0167bd57-9058-4657-c717-4d0480669ead"
      },
      "source": [
        "# identify the error, label the type of error and correct the error \n",
        "clas =\"plant\"\n",
        "crop_name =\"Brinjal\"\n",
        "yeid = 20\n",
        "print(clas,crop_name,yeid)\n",
        "# print name of the class, crop name and yeid \n",
        "\n",
        "x=10\n",
        "print (x)\n",
        "# print the value of x \n"
      ],
      "execution_count": null,
      "outputs": [
        {
          "output_type": "stream",
          "name": "stdout",
          "text": [
            "plant Brinjal 20\n",
            "10\n"
          ]
        }
      ]
    },
    {
      "cell_type": "code",
      "metadata": {
        "id": "y4KL5WaiL_h0",
        "colab": {
          "base_uri": "https://localhost:8080/"
        },
        "outputId": "30189bfb-10db-4574-bac0-d3afd094e464"
      },
      "source": [
        "# Find the errors in the coding and correct \n",
        "# formula to convert centrigrade to fahr\n",
        "\n",
        "\n",
        "C = 21; F = 9/5*C + 32\n",
        "print(F)\n",
        "C = 21.0; F = (9/5)*C + 32\n",
        "print(C)\n"
      ],
      "execution_count": null,
      "outputs": [
        {
          "output_type": "stream",
          "name": "stdout",
          "text": [
            "69.80000000000001\n",
            "21.0\n"
          ]
        }
      ]
    },
    {
      "cell_type": "code",
      "metadata": {
        "id": "OEGKfzBuMe5b",
        "colab": {
          "base_uri": "https://localhost:8080/"
        },
        "outputId": "53b33464-342e-4820-e8cf-cb6d31b50f8d"
      },
      "source": [
        "#Explain why the code is not working \n",
        "c= a+ b \n",
        "a =10 \n",
        "b = 5 \n",
        "print(c)"
      ],
      "execution_count": null,
      "outputs": [
        {
          "output_type": "stream",
          "name": "stdout",
          "text": [
            "15\n"
          ]
        }
      ]
    },
    {
      "cell_type": "code",
      "metadata": {
        "colab": {
          "base_uri": "https://localhost:8080/"
        },
        "id": "GeVaIE5lK6Xk",
        "outputId": "dd42673b-f459-4ce6-f9ae-1fe02ba4baa9"
      },
      "source": [
        "# Find the bugs in the below code, correct the mistakes and comment suggestions \n",
        "from math import pi\n",
        "h = 5.0 # height\n",
        "B = 2.0 # base\n",
        "r = 1.5 #radius\n",
        "area_parallelogram = h*b\n",
        "print ('The area of the parallelogram is %.3f', area_parallelogram )\n",
        "area_square = b**2\n",
        "print ('The area of the square is %g', area_square)\n",
        "area_circle = pi*r**2\n",
        "print ('The area of the circle is %.3f',area_circle)\n",
        "volume_cone = 1.0/3*pi*r**2*h\n",
        "print ('The volume of the cone is %.3f', volume_cone)"
      ],
      "execution_count": null,
      "outputs": [
        {
          "output_type": "stream",
          "name": "stdout",
          "text": [
            "The area of the parallelogram is %.3f 25.0\n",
            "The area of the square is %g 25\n",
            "The area of the circle is %.3f 7.0685834705770345\n",
            "The volume of the cone is %.3f 11.780972450961723\n"
          ]
        }
      ]
    },
    {
      "cell_type": "code",
      "metadata": {
        "colab": {
          "base_uri": "https://localhost:8080/"
        },
        "id": "o5pap43SGS_9",
        "outputId": "4af7ccdb-87ab-438e-bf41-97df79a22238"
      },
      "source": [
        "# This code shows the use math module \n",
        "# Run time error and Logical Error \n",
        "\n",
        "from math import sin\n",
        "r= sin(c)\n",
        "\n",
        "x=2.4\n",
        "y = 2.5 + 3j\n",
        "y_new = abs(y)\n",
        "print(y_new)\n",
        "\n",
        "math.sin(x)\n",
        "#math.sin(y)"
      ],
      "execution_count": null,
      "outputs": [
        {
          "output_type": "stream",
          "name": "stdout",
          "text": [
            "3.905124837953327\n"
          ]
        },
        {
          "output_type": "execute_result",
          "data": {
            "text/plain": [
              "0.675463180551151"
            ]
          },
          "metadata": {},
          "execution_count": 84
        }
      ]
    },
    {
      "cell_type": "code",
      "metadata": {
        "id": "YI47Zx77kag2",
        "colab": {
          "base_uri": "https://localhost:8080/"
        },
        "outputId": "ed8b5d83-0c96-4940-8b65-f776c2b9fb81"
      },
      "source": [
        "print(\"Hello, World!\")\n",
        "print(5 + 1)\n",
        "print(\"All finished!\")"
      ],
      "execution_count": null,
      "outputs": [
        {
          "output_type": "stream",
          "name": "stdout",
          "text": [
            "Hello, World!\n",
            "6\n",
            "All finished!\n"
          ]
        }
      ]
    },
    {
      "cell_type": "code",
      "metadata": {
        "id": "1BsRwEjLqSxE",
        "colab": {
          "base_uri": "https://localhost:8080/"
        },
        "outputId": "4769e7c2-3251-4530-a17d-c1909e52e24f"
      },
      "source": [
        "# Print the statement, Kindly help me!\n",
        "print (\"Kindly help me!\")"
      ],
      "execution_count": null,
      "outputs": [
        {
          "output_type": "stream",
          "name": "stdout",
          "text": [
            "Kindly help me!\n"
          ]
        }
      ]
    },
    {
      "cell_type": "code",
      "metadata": {
        "id": "0hlQygpy9Nto",
        "colab": {
          "base_uri": "https://localhost:8080/"
        },
        "outputId": "cb67dd74-9822-43eb-c40d-ee81118bda46"
      },
      "source": [
        "# print the value of the course \n",
        "course = \"Programming with Python\"\n",
        "print (course)"
      ],
      "execution_count": null,
      "outputs": [
        {
          "output_type": "stream",
          "name": "stdout",
          "text": [
            "Programming with Python\n"
          ]
        }
      ]
    },
    {
      "cell_type": "code",
      "metadata": {
        "id": "ta5XT3nWbX5D"
      },
      "source": [
        ""
      ],
      "execution_count": null,
      "outputs": []
    },
    {
      "cell_type": "code",
      "metadata": {
        "id": "KRQbpCioCZmv",
        "colab": {
          "base_uri": "https://localhost:8080/"
        },
        "outputId": "501e5a6e-12f0-4b6c-af12-810142f475a4"
      },
      "source": [
        "#store the size of the land in the variable size  in square feet \n",
        "size = 200 \n",
        "#store the income as in\n",
        "#print the value of  both size and income \n",
        "inc= 9000\n",
        "print(size,inc)"
      ],
      "execution_count": null,
      "outputs": [
        {
          "output_type": "stream",
          "name": "stdout",
          "text": [
            "200 9000\n"
          ]
        }
      ]
    },
    {
      "cell_type": "code",
      "metadata": {
        "id": "AwZuxqIoEJVV",
        "colab": {
          "base_uri": "https://localhost:8080/"
        },
        "outputId": "cd1c5d16-915f-4914-f3aa-38eeb99031c2"
      },
      "source": [
        "print (\"Don't eat those cookies before dinner.\")"
      ],
      "execution_count": null,
      "outputs": [
        {
          "output_type": "stream",
          "name": "stdout",
          "text": [
            "Don't eat those cookies before dinner.\n"
          ]
        }
      ]
    },
    {
      "cell_type": "code",
      "metadata": {
        "id": "l9ymjrwAcGE7",
        "colab": {
          "base_uri": "https://localhost:8080/"
        },
        "outputId": "f82f5985-1ddf-4a2d-e411-bdde875ef0ba"
      },
      "source": [
        "print ('Hello \\t \\t \\t world ')"
      ],
      "execution_count": null,
      "outputs": [
        {
          "output_type": "stream",
          "name": "stdout",
          "text": [
            "Hello \t \t \t world \n"
          ]
        }
      ]
    },
    {
      "cell_type": "code",
      "metadata": {
        "id": "6zLCndnBhJkF",
        "colab": {
          "base_uri": "https://localhost:8080/"
        },
        "outputId": "00ab9eab-e831-48f8-983a-22c5519284bf"
      },
      "source": [
        "print ('I like Python Programming!')"
      ],
      "execution_count": null,
      "outputs": [
        {
          "output_type": "stream",
          "name": "stdout",
          "text": [
            "I like Python Programming!\n"
          ]
        }
      ]
    },
    {
      "cell_type": "code",
      "metadata": {
        "colab": {
          "base_uri": "https://localhost:8080/"
        },
        "id": "p3CqLQsAhS7o",
        "outputId": "efcdcc71-6968-4a79-9071-ee74ae04fe12"
      },
      "source": [
        "print (\"The first program in any programming language is Hello World.\")"
      ],
      "execution_count": null,
      "outputs": [
        {
          "output_type": "stream",
          "name": "stdout",
          "text": [
            "The first program in any programming language is Hello World.\n"
          ]
        }
      ]
    },
    {
      "cell_type": "code",
      "metadata": {
        "colab": {
          "base_uri": "https://localhost:8080/"
        },
        "id": "y2bSAfLTcNw8",
        "outputId": "9075b6b7-5968-4a83-fc30-809a2ca65afb"
      },
      "source": [
        "cropname ='brinjal'\n",
        "print (cropname)"
      ],
      "execution_count": null,
      "outputs": [
        {
          "output_type": "stream",
          "name": "stdout",
          "text": [
            "brinjal\n"
          ]
        }
      ]
    },
    {
      "cell_type": "code",
      "metadata": {
        "colab": {
          "base_uri": "https://localhost:8080/"
        },
        "id": "naQO1yYtelji",
        "outputId": "6e710b76-da97-472d-f8d7-6549deaff838"
      },
      "source": [
        "# find the bug\n",
        "print( 1/2)"
      ],
      "execution_count": null,
      "outputs": [
        {
          "output_type": "stream",
          "name": "stdout",
          "text": [
            "0.5\n"
          ]
        }
      ]
    },
    {
      "cell_type": "code",
      "metadata": {
        "colab": {
          "base_uri": "https://localhost:8080/"
        },
        "id": "ww59VvltfTN6",
        "outputId": "04caac8d-626e-409d-9f7c-4a049871ad9b"
      },
      "source": [
        "profit = 1000\n",
        "#increment profit by 1\n",
        "profit++ 1"
      ],
      "execution_count": null,
      "outputs": [
        {
          "output_type": "execute_result",
          "data": {
            "text/plain": [
              "1001"
            ]
          },
          "metadata": {},
          "execution_count": 108
        }
      ]
    },
    {
      "cell_type": "code",
      "metadata": {
        "colab": {
          "base_uri": "https://localhost:8080/"
        },
        "id": "cK7zIHHyizeI",
        "outputId": "ea52c56d-39b1-407e-867d-8922a8177fcf"
      },
      "source": [
        "import math\n",
        "print (math.log(10))"
      ],
      "execution_count": null,
      "outputs": [
        {
          "output_type": "stream",
          "name": "stdout",
          "text": [
            "2.302585092994046\n"
          ]
        }
      ]
    },
    {
      "cell_type": "code",
      "metadata": {
        "colab": {
          "base_uri": "https://localhost:8080/"
        },
        "id": "kVuiqskDjy5L",
        "outputId": "2ef63f11-45f1-4b5c-c967-c2a5b434f1d2"
      },
      "source": [
        "print (math.sin(2))"
      ],
      "execution_count": null,
      "outputs": [
        {
          "output_type": "stream",
          "name": "stdout",
          "text": [
            "0.9092974268256817\n"
          ]
        }
      ]
    },
    {
      "cell_type": "code",
      "metadata": {
        "colab": {
          "base_uri": "https://localhost:8080/"
        },
        "id": "c-ad-Nzrq77u",
        "outputId": "714ef74f-a686-45bc-ca58-49cc54fa2e8d"
      },
      "source": [
        "num_int =55\n",
        "num_str =34\n",
        "total = num_int + num_str\n",
        "print (total)\n",
        "print (type(num_int))\n",
        "print (type(num_str))\n"
      ],
      "execution_count": null,
      "outputs": [
        {
          "output_type": "stream",
          "name": "stdout",
          "text": [
            "89\n",
            "<class 'int'>\n",
            "<class 'int'>\n"
          ]
        }
      ]
    },
    {
      "cell_type": "code",
      "metadata": {
        "id": "jPjjyFnttQmk",
        "colab": {
          "base_uri": "https://localhost:8080/"
        },
        "outputId": "f82aba7a-07f0-480c-97a0-0b4a7d0e6a2c"
      },
      "source": [
        "# Trying to print the multiplication entry, but it throws error \n",
        "print(\"5*6=\",5*6) "
      ],
      "execution_count": null,
      "outputs": [
        {
          "output_type": "stream",
          "name": "stdout",
          "text": [
            "5*6= 30\n"
          ]
        }
      ]
    },
    {
      "cell_type": "code",
      "metadata": {
        "id": "3BbHIDfm9m8Z",
        "colab": {
          "base_uri": "https://localhost:8080/"
        },
        "outputId": "31f9c59e-d4d9-465d-d735-487086d74848"
      },
      "source": [
        "# Trying to find the round of 10.2 \n",
        "round(10.2)\n"
      ],
      "execution_count": null,
      "outputs": [
        {
          "output_type": "execute_result",
          "data": {
            "text/plain": [
              "10"
            ]
          },
          "metadata": {},
          "execution_count": 117
        }
      ]
    },
    {
      "cell_type": "code",
      "metadata": {
        "colab": {
          "base_uri": "https://localhost:8080/"
        },
        "id": "JgPti3XH905j",
        "outputId": "2b63022f-ce7b-42b9-c2a7-314a5d6645a0"
      },
      "source": [
        "round(10.2)"
      ],
      "execution_count": null,
      "outputs": [
        {
          "output_type": "execute_result",
          "data": {
            "text/plain": [
              "10"
            ]
          },
          "metadata": {},
          "execution_count": 119
        }
      ]
    },
    {
      "cell_type": "code",
      "metadata": {
        "colab": {
          "base_uri": "https://localhost:8080/"
        },
        "id": "SNu9AoTc96rR",
        "outputId": "11f979dc-3c4b-4988-e057-d1297556fc79"
      },
      "source": [
        "# Trying to calculate 2 to the power of 5 \n",
        "\n",
        "print(2**5)"
      ],
      "execution_count": null,
      "outputs": [
        {
          "output_type": "stream",
          "name": "stdout",
          "text": [
            "32\n"
          ]
        }
      ]
    },
    {
      "cell_type": "code",
      "metadata": {
        "colab": {
          "base_uri": "https://localhost:8080/"
        },
        "id": "RYI_-mCi_uhB",
        "outputId": "6744b043-6b32-4986-de57-b0f87e85fdec"
      },
      "source": [
        "#Trying to multiply 5 \n",
        "print(5 * 5)"
      ],
      "execution_count": null,
      "outputs": [
        {
          "output_type": "stream",
          "name": "stdout",
          "text": [
            "25\n"
          ]
        }
      ]
    },
    {
      "cell_type": "code",
      "metadata": {
        "id": "nBbRBfMb9JOs"
      },
      "source": [
        "# Trying to print the text message Hello \n",
        "\n",
        "print('Hello') "
      ],
      "execution_count": null,
      "outputs": []
    },
    {
      "cell_type": "code",
      "metadata": {
        "id": "79e4eQ0RbY4U",
        "colab": {
          "base_uri": "https://localhost:8080/"
        },
        "outputId": "1899f170-af77-4ef8-cc7e-bf5304115f5f"
      },
      "source": [
        "#store the size of the land in the variable size  in square feet \n",
        "size = 200 \n",
        "#store the income as in\n",
        "#print the value of  both size and income \n",
        "inc= 9000\n",
        "print(size,inc)\n"
      ],
      "execution_count": null,
      "outputs": [
        {
          "output_type": "stream",
          "name": "stdout",
          "text": [
            "200 9000\n"
          ]
        }
      ]
    }
  ]
}