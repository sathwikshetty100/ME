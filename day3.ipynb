{
  "nbformat": 4,
  "nbformat_minor": 0,
  "metadata": {
    "colab": {
      "name": "day3.ipynb",
      "provenance": [],
      "collapsed_sections": []
    },
    "kernelspec": {
      "name": "python3",
      "display_name": "Python 3"
    },
    "language_info": {
      "name": "python"
    }
  },
  "cells": [
    {
      "cell_type": "code",
      "metadata": {
        "colab": {
          "base_uri": "https://localhost:8080/"
        },
        "id": "Z20-X3HqJm0H",
        "outputId": "4e0bb282-0c54-4bba-8203-96be2117f548"
      },
      "source": [
        "str = \"my NamE is khan\"\n",
        "count=0\n",
        "print(str)\n",
        "print(len(str))\n",
        "str1 =str.upper()\n",
        "print(str1)\n",
        "str2 = str1.lower()\n",
        "print(str2)\n",
        "str3 = \"my\"\n",
        "str4 = \"khan\"\n",
        "if str.startswith(str3):\n",
        "    print(\"starts with my\")\n",
        "else:\n",
        "    print('does not start with my')   \n",
        "if str.endswith(str4):\n",
        "    print(\"ends with khan\")\n",
        "else:\n",
        "    print(\"does not end\")    \n",
        "str5=str.split() \n",
        "print(str5)\n",
        "str6=str.swapcase()\n",
        "print(str6)\n",
        "str7=str.title()\n",
        "print(str7)\n",
        "str8=str.count(\"m\")\n",
        "print(str8)\n",
        "str9=str.splitlines()\n",
        "print(str9)\n",
        "print(str.replace(\"khan\",\"Shetty\"))\n",
        "str9=str.isupper()\n",
        "print(str9)\n",
        "str10 =str.islower()\n",
        "print(str10)"
      ],
      "execution_count": null,
      "outputs": [
        {
          "output_type": "stream",
          "name": "stdout",
          "text": [
            "my NamE is khan\n",
            "15\n",
            "MY NAME IS KHAN\n",
            "my name is khan\n",
            "starts with my\n",
            "ends with khan\n",
            "['my', 'NamE', 'is', 'khan']\n",
            "MY nAMe IS KHAN\n",
            "My Name Is Khan\n",
            "2\n",
            "['my NamE is khan']\n",
            "my NamE is Shetty\n",
            "False\n",
            "False\n"
          ]
        }
      ]
    },
    {
      "cell_type": "code",
      "metadata": {
        "colab": {
          "base_uri": "https://localhost:8080/"
        },
        "id": "rGRa7dZSnzQf",
        "outputId": "e27b1466-3774-485e-aa33-5aa35b83404f"
      },
      "source": [
        "dicti = {1: 'car',2: 'bike',3: 'cycle'}\n",
        "print(dicti)\n",
        "dicti['address']= 'manipal'\n",
        "print(dicti)\n",
        "print(dicti.pop(2))\n",
        "\n",
        "print(dicti)\n",
        "for item in dicti.items():\n",
        "    print(item)\n",
        "print (1 in dicti)    \n",
        "for i in dicti:\n",
        "    print(i)\n",
        "dicti1={1:'car',4: 'plane'}  \n",
        "dicti.update(dicti1) \n",
        "print(dicti)\n",
        "dicti.clear()"
      ],
      "execution_count": 83,
      "outputs": [
        {
          "output_type": "stream",
          "name": "stdout",
          "text": [
            "{1: 'car', 2: 'bike', 3: 'cycle'}\n",
            "{1: 'car', 2: 'bike', 3: 'cycle', 'address': 'manipal'}\n",
            "bike\n",
            "{1: 'car', 3: 'cycle', 'address': 'manipal'}\n",
            "(1, 'car')\n",
            "(3, 'cycle')\n",
            "('address', 'manipal')\n",
            "True\n",
            "1\n",
            "3\n",
            "address\n",
            "{1: 'car', 3: 'cycle', 'address': 'manipal', 4: 'plane'}\n"
          ]
        }
      ]
    },
    {
      "cell_type": "code",
      "metadata": {
        "colab": {
          "base_uri": "https://localhost:8080/"
        },
        "id": "KRIpZJxuPylR",
        "outputId": "e16e71cd-81ed-493a-b678-c069bfa818f7"
      },
      "source": [
        "List = ['sky',77,'sky',88,'cloud']\n",
        "print(List)\n",
        "print(len(List))\n",
        "print(List.count(\"sky\"))\n",
        "List.append(3)\n",
        "print(List)\n",
        "List.insert(3, 12)\n",
        "print(List)\n",
        "List.extend([2,'car'])\n",
        "print(List)\n",
        "List.remove(77)\n",
        "print(List)\n",
        "short_list=List[1:5]\n",
        "print(short_list)\n",
        "reverse=List[::-1]\n",
        "print(reverse)\n",
        "List.pop(3)\n",
        "print(List)\n",
        "list1 = [11,12,13]\n",
        "print(List+list1)\n",
        "print(List*2)"
      ],
      "execution_count": null,
      "outputs": [
        {
          "output_type": "stream",
          "name": "stdout",
          "text": [
            "['sky', 77, 'sky', 88, 'cloud']\n",
            "5\n",
            "2\n",
            "['sky', 77, 'sky', 88, 'cloud', 3]\n",
            "['sky', 77, 'sky', 12, 88, 'cloud', 3]\n",
            "['sky', 77, 'sky', 12, 88, 'cloud', 3, 2, 'car']\n",
            "['sky', 'sky', 12, 88, 'cloud', 3, 2, 'car']\n",
            "['sky', 12, 88, 'cloud']\n",
            "['car', 2, 3, 'cloud', 88, 12, 'sky', 'sky']\n",
            "['sky', 'sky', 12, 'cloud', 3, 2, 'car']\n",
            "['sky', 'sky', 12, 'cloud', 3, 2, 'car', 11, 12, 13]\n",
            "['sky', 'sky', 12, 'cloud', 3, 2, 'car', 'sky', 'sky', 12, 'cloud', 3, 2, 'car']\n"
          ]
        }
      ]
    },
    {
      "cell_type": "code",
      "metadata": {
        "colab": {
          "base_uri": "https://localhost:8080/"
        },
        "id": "sWEsQv5wWXxW",
        "outputId": "d3094fad-a600-4e9f-a9b2-ec1c4f4422f8"
      },
      "source": [
        "tuple = (1,'hi',2,'bye',3,'kkk',1,2)\n",
        "print(len(tuple))\n",
        "print(tuple.count(1))\n",
        "print(tuple.index('bye'))\n",
        "tuple1 = (1,1,'hi')\n",
        "tuple2 = tuple + tuple1\n",
        "print(tuple2)\n",
        "tuple3 =(tuple1,tuple2)\n",
        "print(tuple3)\n",
        "tuple4 = tuple*2\n",
        "print(tuple4)\n",
        "print(tuple[1:])\n",
        "print(tuple[::-1])\n",
        "print(any(tuple))\n",
        "print(all(tuple))"
      ],
      "execution_count": null,
      "outputs": [
        {
          "output_type": "stream",
          "name": "stdout",
          "text": [
            "8\n",
            "2\n",
            "3\n",
            "(1, 'hi', 2, 'bye', 3, 'kkk', 1, 2, 1, 1, 'hi')\n",
            "((1, 1, 'hi'), (1, 'hi', 2, 'bye', 3, 'kkk', 1, 2, 1, 1, 'hi'))\n",
            "(1, 'hi', 2, 'bye', 3, 'kkk', 1, 2, 1, 'hi', 2, 'bye', 3, 'kkk', 1, 2)\n",
            "('hi', 2, 'bye', 3, 'kkk', 1, 2)\n",
            "(2, 1, 'kkk', 3, 'bye', 2, 'hi', 1)\n",
            "True\n",
            "True\n"
          ]
        }
      ]
    }
  ]
}